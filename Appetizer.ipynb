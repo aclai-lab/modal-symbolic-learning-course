{
 "cells": [
  {
   "cell_type": "markdown",
   "id": "e6bddeee",
   "metadata": {},
   "source": [
    "# Learning and inspecting a Modal Decision Tree"
   ]
  },
  {
   "cell_type": "code",
   "execution_count": null,
   "id": "f555fce4",
   "metadata": {},
   "outputs": [],
   "source": [
    "using Pkg\n",
    "Pkg.activate(\".\")\n",
    "Pkg.instantiate()\n",
    "Pkg.update()\n",
    "Pkg.status()"
   ]
  },
  {
   "cell_type": "code",
   "execution_count": null,
   "id": "ce399b7e",
   "metadata": {},
   "outputs": [],
   "source": [
    "# Import libraries for statistics & Machine Learning\n",
    "using Random\n",
    "using DataFrames\n",
    "using MLJ\n",
    "using Plots"
   ]
  },
  {
   "cell_type": "code",
   "execution_count": null,
   "id": "f9177c0d",
   "metadata": {},
   "outputs": [],
   "source": [
    "# Import the Sole framework\n",
    "using Sole\n",
    "\n",
    "# Load an example time-series classification dataset as a tuple (DataFrame, Vector{String})\n",
    "X, y = Sole.load_arff_dataset(\"NATOPS\");"
   ]
  },
  {
   "cell_type": "code",
   "execution_count": null,
   "id": "c333ac96",
   "metadata": {},
   "outputs": [],
   "source": [
    "X"
   ]
  },
  {
   "cell_type": "code",
   "execution_count": null,
   "id": "6104cb3a",
   "metadata": {},
   "outputs": [],
   "source": [
    "names(X)"
   ]
  },
  {
   "cell_type": "code",
   "execution_count": null,
   "id": "296ae402",
   "metadata": {
    "scrolled": true
   },
   "outputs": [],
   "source": [
    "# Let's inspect an instance for each class.\n",
    "plot(map(i->plot(collect(X[i,:]), labels=nothing,title=y[i]), 1:30:180)..., layout = (2, 3), size = (1500,400))"
   ]
  },
  {
   "cell_type": "code",
   "execution_count": null,
   "id": "01220dc9",
   "metadata": {
    "scrolled": true
   },
   "outputs": [],
   "source": [
    "# All instances, grouped per class\n",
    "plot(map(i->plot(collect.(eachrow(X[i:(i+30),:])), labels=nothing,title=y[i]), 1:30:180)..., layout = (2, 3), size = (1500,400))"
   ]
  },
  {
   "cell_type": "code",
   "execution_count": null,
   "id": "1a696a25",
   "metadata": {},
   "outputs": [],
   "source": [
    "# Randomly split the data: 20% training, 80% testing\n",
    "N = nrow(X)\n",
    "perm = randperm(Random.MersenneTwister(1), N)\n",
    "train_idxs, test_idxs = perm[1:round(Int, N*.2)], perm[round(Int, N*.2)+1:end];\n",
    "println(\"Using $(length(train_idxs)) instances for training\")\n",
    "println(\"Using $(length(test_idxs)) instances for testing\")"
   ]
  },
  {
   "cell_type": "code",
   "execution_count": null,
   "id": "e75de392",
   "metadata": {},
   "outputs": [],
   "source": [
    "DecisionTreeClassifier = @load DecisionTreeClassifier pkg=DecisionTree verbosity=0\n",
    "\n",
    "# Instantiate the tree learning algorithm\n",
    "model = DecisionTreeClassifier(;)"
   ]
  },
  {
   "cell_type": "code",
   "execution_count": null,
   "id": "a823ab34",
   "metadata": {
    "scrolled": true
   },
   "outputs": [],
   "source": [
    "# Bind data to learning algorithm\n",
    "mach = machine(model, X, y)\n",
    "\n",
    "# Train!\n",
    "@time fit!(mach; rows=train_idxs)"
   ]
  },
  {
   "cell_type": "code",
   "execution_count": null,
   "id": "e24642e0",
   "metadata": {},
   "outputs": [],
   "source": [
    "X_static = Matrix(X)\n",
    "cols = []\n",
    "for i_var in 1:size(X_static, 2)\n",
    "    var_unroll = hcat(X_static[:,i_var]...)\n",
    "    append!(cols, eachrow(var_unroll))\n",
    "end\n",
    "X_static = DataFrame(cols, [\"$n[$i]\" for n in names(X) for i in 1:51])"
   ]
  },
  {
   "cell_type": "code",
   "execution_count": null,
   "id": "bffc3bcc",
   "metadata": {},
   "outputs": [],
   "source": [
    "# Bind data to learning algorithm\n",
    "mach = machine(model, X_static, y)\n",
    "\n",
    "# Train!\n",
    "@time fit!(mach; rows=train_idxs);\n",
    "\n",
    "println(fitted_params(mach).tree)\n",
    "\n",
    "# Compute accuracy\n",
    "yhat = predict_mode(mach; rows=test_idxs)\n",
    "acc = MLJ.accuracy(yhat, y[test_idxs])\n",
    "println(\"Accuracy: $(acc)\")"
   ]
  },
  {
   "cell_type": "code",
   "execution_count": null,
   "id": "67e3f5a2",
   "metadata": {
    "scrolled": true
   },
   "outputs": [],
   "source": [
    "X_mean = DataFrame(mean.(Matrix(X)), [\"mean($n)\" for n in names(X)])"
   ]
  },
  {
   "cell_type": "code",
   "execution_count": null,
   "id": "48ece022",
   "metadata": {
    "scrolled": true
   },
   "outputs": [],
   "source": [
    "# Bind data to learning algorithm\n",
    "mach = machine(model, X_mean, y)\n",
    "\n",
    "# Train!\n",
    "@time fit!(mach; rows=train_idxs);\n",
    "\n",
    "println(fitted_params(mach).tree)\n",
    "\n",
    "# Compute accuracy\n",
    "yhat = predict_mode(mach; rows=test_idxs)\n",
    "acc = MLJ.accuracy(yhat, y[test_idxs])\n",
    "println(\"Accuracy: $(acc)\")"
   ]
  },
  {
   "cell_type": "code",
   "execution_count": null,
   "id": "2bef6234",
   "metadata": {
    "scrolled": true
   },
   "outputs": [],
   "source": [
    "X_features = DataFrame([\n",
    "    eachcol(mean.(Matrix(X)))...,\n",
    "    eachcol(maximum.(Matrix(X)))...,\n",
    "    eachcol(minimum.(Matrix(X)))...,\n",
    "], [\"$f($n)\" for n in names(X) for f in [\"mean\", \"max\", \"min\"]])"
   ]
  },
  {
   "cell_type": "code",
   "execution_count": null,
   "id": "3ebbcc86",
   "metadata": {},
   "outputs": [],
   "source": [
    "# Bind data to learning algorithm\n",
    "mach = machine(model, X_features, y)\n",
    "\n",
    "# Train!\n",
    "@time fit!(mach; rows=train_idxs);\n",
    "\n",
    "println(fitted_params(mach).tree)\n",
    "\n",
    "# Compute accuracy\n",
    "yhat = predict_mode(mach; rows=test_idxs)\n",
    "acc = MLJ.accuracy(yhat, y[test_idxs])\n",
    "println(\"Accuracy: $(acc)\")"
   ]
  },
  {
   "cell_type": "code",
   "execution_count": null,
   "id": "50832427",
   "metadata": {},
   "outputs": [],
   "source": [
    "using ModalDecisionTrees\n",
    "\n",
    "# Instantiate the learning algorithm\n",
    "model = ModalDecisionTree(; relations = :IA7);"
   ]
  },
  {
   "cell_type": "code",
   "execution_count": null,
   "id": "afebdf58",
   "metadata": {},
   "outputs": [],
   "source": [
    "# Bind data to learning algorithm\n",
    "mach = machine(model, X, y)\n",
    "\n",
    "# Train!\n",
    "@time fit!(mach; rows=train_idxs)"
   ]
  },
  {
   "cell_type": "code",
   "execution_count": null,
   "id": "7074aa12",
   "metadata": {},
   "outputs": [],
   "source": [
    "# Compute accuracy\n",
    "yhat = predict_mode(mach; rows=test_idxs)\n",
    "MLJ.accuracy(yhat, y[test_idxs])"
   ]
  },
  {
   "cell_type": "code",
   "execution_count": null,
   "id": "60336a81",
   "metadata": {},
   "outputs": [],
   "source": [
    "report(mach).printmodel()"
   ]
  },
  {
   "cell_type": "code",
   "execution_count": null,
   "id": "50dc7752",
   "metadata": {},
   "outputs": [],
   "source": [
    "# Access model\n",
    "tree_train = report(mach).model\n",
    "\n",
    "# Extract the corresponding ruleset\n",
    "ruleset = listrules(tree_train);\n",
    "\n",
    "# Print ruleset\n",
    "printmodel.(ruleset; show_metrics = true, threshold_digits = 2, variable_names_map = [names(X)], parenthesize_atoms = false);"
   ]
  },
  {
   "cell_type": "code",
   "execution_count": null,
   "id": "a6bb2018",
   "metadata": {},
   "outputs": [],
   "source": [
    "# Sprinkle the model with the test instances!\n",
    "predictions, tree_test = report(mach).sprinkle(X[test_idxs,:], y[test_idxs]);\n",
    "\n",
    "# Extract ruleset and print its metrics\n",
    "ruleset_test = listrules(tree_test)\n",
    "\n",
    "printmodel.(ruleset_test; show_metrics = true, threshold_digits = 2, variable_names_map = [names(X)]);\n",
    "\n",
    "# In the classification scenario, rules for the same class can be joined via logical conjunction (∨)\n",
    "joined_ruleset_test = joinrules(ruleset_test)\n",
    "printmodel.(joined_ruleset_test; show_metrics = true, variable_names_map = [names(X)], threshold_digits = 3);"
   ]
  }
 ],
 "metadata": {
  "kernelspec": {
   "display_name": "Julia 1.9.0",
   "language": "julia",
   "name": "julia-1.9"
  },
  "language_info": {
   "file_extension": ".jl",
   "mimetype": "application/julia",
   "name": "julia",
   "version": "1.9.4"
  }
 },
 "nbformat": 4,
 "nbformat_minor": 5
}
