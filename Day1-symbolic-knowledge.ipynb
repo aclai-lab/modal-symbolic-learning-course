{
 "cells": [
  {
   "cell_type": "markdown",
   "id": "354b97bf",
   "metadata": {},
   "source": [
    "# Modal Symbolic Learning: Day 1"
   ]
  },
  {
   "cell_type": "markdown",
   "id": "c216d7ad",
   "metadata": {},
   "source": [
    "## Propositional Logic"
   ]
  },
  {
   "cell_type": "markdown",
   "id": "4e8dd1a4",
   "metadata": {},
   "source": [
    "### Formulas & Interpretations"
   ]
  },
  {
   "cell_type": "code",
   "execution_count": 1,
   "id": "b627caf4",
   "metadata": {},
   "outputs": [
    {
     "name": "stderr",
     "output_type": "stream",
     "text": [
      "\u001b[32m\u001b[1m  Activating\u001b[22m\u001b[39m project at `~/Desktop/modal-symbolic-learning-course`\n",
      "\u001b[32m\u001b[1m    Updating\u001b[22m\u001b[39m registry at `~/.julia/registries/General`\n",
      "\u001b[32m\u001b[1m    Updating\u001b[22m\u001b[39m git-repo `https://github.com/JuliaRegistries/General.git`\n",
      "\u001b[32m\u001b[1m   Installed\u001b[22m\u001b[39m FillArrays ─ v1.9.0\n",
      "\u001b[32m\u001b[1m  No Changes\u001b[22m\u001b[39m to `~/Desktop/modal-symbolic-learning-course/Project.toml`\n",
      "\u001b[32m\u001b[1m    Updating\u001b[22m\u001b[39m `~/Desktop/modal-symbolic-learning-course/Manifest.toml`\n",
      "  \u001b[90m[1a297f60] \u001b[39m\u001b[93m↑ FillArrays v1.8.0 ⇒ v1.9.0\u001b[39m\n",
      "\u001b[32m\u001b[1mPrecompiling\u001b[22m\u001b[39m project...\n",
      "\u001b[32m  ✓ \u001b[39m\u001b[90mFillArrays\u001b[39m\n",
      "\u001b[32m  ✓ \u001b[39m\u001b[90mFillArrays → FillArraysPDMatsExt\u001b[39m\n",
      "\u001b[32m  ✓ \u001b[39m\u001b[90mFillArrays → FillArraysSparseArraysExt\u001b[39m\n",
      "\u001b[32m  ✓ \u001b[39m\u001b[90mFillArrays → FillArraysStatisticsExt\u001b[39m\n",
      "\u001b[32m  ✓ \u001b[39m\u001b[90mDistributions\u001b[39m\n",
      "\u001b[32m  ✓ \u001b[39m\u001b[90mDistributions → DistributionsTestExt\u001b[39m\n",
      "\u001b[32m  ✓ \u001b[39m\u001b[90mScientificTypes\u001b[39m\n",
      "\u001b[32m  ✓ \u001b[39m\u001b[90mCategoricalDistributions\u001b[39m\n",
      "\u001b[32m  ✓ \u001b[39m\u001b[90mSoleData\u001b[39m\n",
      "\u001b[32m  ✓ \u001b[39m\u001b[90mMLJModels\u001b[39m\n",
      "\u001b[32m  ✓ \u001b[39m\u001b[90mMLJBase\u001b[39m\n",
      "\u001b[32m  ✓ \u001b[39m\u001b[90mMLJEnsembles\u001b[39m\n",
      "\u001b[32m  ✓ \u001b[39m\u001b[90mMLJFlow\u001b[39m\n",
      "\u001b[32m  ✓ \u001b[39m\u001b[90mMLJTuning\u001b[39m\n",
      "\u001b[32m  ✓ \u001b[39m\u001b[90mMLJIteration\u001b[39m\n",
      "\u001b[32m  ✓ \u001b[39mMLJ\n",
      "\u001b[32m  ✓ \u001b[39mSoleModels\n",
      "\u001b[32m  ✓ \u001b[39mSole\n",
      "\u001b[32m  ✓ \u001b[39mModalDecisionTrees\n",
      "  19 dependencies successfully precompiled in 47 seconds. 270 already precompiled.\n"
     ]
    },
    {
     "name": "stdout",
     "output_type": "stream",
     "text": [
      "\u001b[32m\u001b[1mStatus\u001b[22m\u001b[39m `~/Desktop/modal-symbolic-learning-course/Project.toml`\n",
      "  \u001b[90m[a93c6f00] \u001b[39mDataFrames v1.6.1\n",
      "  \u001b[90m[7806a523] \u001b[39mDecisionTree v0.12.4\n",
      "  \u001b[90m[7073ff75] \u001b[39mIJulia v1.24.2\n",
      "\u001b[33m⌅\u001b[39m \u001b[90m[add582a8] \u001b[39mMLJ v0.19.5\n",
      "  \u001b[90m[c6f25543] \u001b[39mMLJDecisionTreeInterface v0.4.0\n",
      "  \u001b[90m[e54bda2e] \u001b[39mModalDecisionTrees v0.3.1\n",
      "  \u001b[90m[91a5bcdd] \u001b[39mPlots v1.39.0\n",
      "  \u001b[90m[7b3b3b3f] \u001b[39mSole v0.3.1\n",
      "  \u001b[90m[b002da8f] \u001b[39mSoleLogics v0.6.10\n",
      "  \u001b[90m[4249d9c7] \u001b[39mSoleModels v0.5.2\n",
      "  \u001b[90m[2913bbd2] \u001b[39mStatsBase v0.34.2\n",
      "  \u001b[90m[9a3f8284] \u001b[39mRandom\n",
      "\u001b[36m\u001b[1mInfo\u001b[22m\u001b[39m Packages marked with \u001b[33m⌅\u001b[39m have new versions available but compatibility constraints restrict them from upgrading. To see why use `status --outdated`\n"
     ]
    }
   ],
   "source": [
    "using Pkg\n",
    "Pkg.activate(\".\")\n",
    "Pkg.instantiate()\n",
    "Pkg.update()\n",
    "Pkg.status()"
   ]
  },
  {
   "cell_type": "code",
   "execution_count": null,
   "id": "c4ad7184",
   "metadata": {},
   "outputs": [],
   "source": [
    "using SoleLogics"
   ]
  },
  {
   "cell_type": "code",
   "execution_count": 2,
   "id": "c54cfd90",
   "metadata": {
    "scrolled": false
   },
   "outputs": [
    {
     "data": {
      "text/plain": [
       "Atom{String}: it's alive"
      ]
     },
     "execution_count": 2,
     "metadata": {},
     "output_type": "execute_result"
    }
   ],
   "source": [
    "p = Atom(\"it's alive\")"
   ]
  },
  {
   "cell_type": "code",
   "execution_count": 3,
   "id": "f3d1a4ed",
   "metadata": {},
   "outputs": [
    {
     "data": {
      "text/plain": [
       "Atom{String}: it's mortal!"
      ]
     },
     "execution_count": 3,
     "metadata": {},
     "output_type": "execute_result"
    }
   ],
   "source": [
    "q = Atom(\"it's mortal!\")"
   ]
  },
  {
   "cell_type": "code",
   "execution_count": 4,
   "id": "8df839b8",
   "metadata": {},
   "outputs": [
    {
     "data": {
      "text/plain": [
       "SyntaxBranch{NamedConnective{:∧}}: it's alive ∧ it's mortal!"
      ]
     },
     "execution_count": 4,
     "metadata": {},
     "output_type": "execute_result"
    }
   ],
   "source": [
    "φ = p ∧ q"
   ]
  },
  {
   "cell_type": "code",
   "execution_count": 5,
   "id": "df54799c",
   "metadata": {},
   "outputs": [
    {
     "data": {
      "text/plain": [
       "true"
      ]
     },
     "execution_count": 5,
     "metadata": {},
     "output_type": "execute_result"
    }
   ],
   "source": [
    "φ isa Formula && p isa Formula"
   ]
  },
  {
   "cell_type": "code",
   "execution_count": 6,
   "id": "0da9fd85",
   "metadata": {},
   "outputs": [
    {
     "name": "stdout",
     "output_type": "stream",
     "text": [
      "∧\n",
      "(Atom{String}: it's alive, Atom{String}: it's mortal!)\n"
     ]
    }
   ],
   "source": [
    "# φ is the root node of a syntax tree.\n",
    "# Print the syntax token at the root node\n",
    "println(token(φ))\n",
    "# Print the children of the root node\n",
    "println(children(φ))"
   ]
  },
  {
   "cell_type": "code",
   "execution_count": 7,
   "id": "060f5efc",
   "metadata": {},
   "outputs": [
    {
     "data": {
      "text/plain": [
       "negateformula (generic function with 1 method)"
      ]
     },
     "execution_count": 7,
     "metadata": {},
     "output_type": "execute_result"
    }
   ],
   "source": [
    "# Create a method for negating any formula\n",
    "function negateformula(f::Formula)\n",
    "    return ¬f\n",
    "end"
   ]
  },
  {
   "cell_type": "code",
   "execution_count": 8,
   "id": "530f79fc",
   "metadata": {},
   "outputs": [
    {
     "data": {
      "text/plain": [
       "SyntaxBranch{NamedConnective{:¬}}: ¬(it's alive ∧ it's mortal!)"
      ]
     },
     "execution_count": 8,
     "metadata": {},
     "output_type": "execute_result"
    }
   ],
   "source": [
    "negateformula(φ)"
   ]
  },
  {
   "cell_type": "code",
   "execution_count": 9,
   "id": "358814d4",
   "metadata": {},
   "outputs": [
    {
     "data": {
      "text/plain": [
       "SyntaxBranch{NamedConnective{:¬}}: ¬it's alive"
      ]
     },
     "execution_count": 9,
     "metadata": {},
     "output_type": "execute_result"
    }
   ],
   "source": [
    "negateformula(p)"
   ]
  },
  {
   "cell_type": "code",
   "execution_count": 10,
   "id": "c91481b7",
   "metadata": {},
   "outputs": [
    {
     "data": {
      "text/plain": [
       "\"it's alive ∧ it's mortal!\""
      ]
     },
     "execution_count": 10,
     "metadata": {},
     "output_type": "execute_result"
    }
   ],
   "source": [
    "# Obtain the string representation of a Formula\n",
    "syntaxstring(φ)"
   ]
  },
  {
   "cell_type": "code",
   "execution_count": 11,
   "id": "36c1ab4d",
   "metadata": {},
   "outputs": [
    {
     "data": {
      "text/plain": [
       "SyntaxBranch{NamedConnective{:∧}}: it's alive ∧ it's mortal!"
      ]
     },
     "execution_count": 11,
     "metadata": {},
     "output_type": "execute_result"
    }
   ],
   "source": [
    "# I can also parse Formula's from standard string representations\n",
    "φ = parseformula(\"it's alive ∧ it's mortal!\")"
   ]
  },
  {
   "cell_type": "code",
   "execution_count": 12,
   "id": "ae67b123",
   "metadata": {},
   "outputs": [
    {
     "data": {
      "text/plain": [
       "my_own_string_representation (generic function with 3 methods)"
      ]
     },
     "execution_count": 12,
     "metadata": {},
     "output_type": "execute_result"
    }
   ],
   "source": [
    "function my_own_string_representation(f::SyntaxBranch{NamedConnective{:¬}})\n",
    "    return \"It is not the case that $(my_own_string_representation(first(children(f))))\"\n",
    "end\n",
    "function my_own_string_representation(f::SyntaxBranch{NamedConnective{:∧}})\n",
    "    subformula1, subformula2 = children(f)\n",
    "    return \"both $(my_own_string_representation(subformula1)) and $(my_own_string_representation(subformula2))\"\n",
    "end\n",
    "function my_own_string_representation(f::SyntaxLeaf)\n",
    "    return syntaxstring(f)\n",
    "end"
   ]
  },
  {
   "cell_type": "code",
   "execution_count": 13,
   "id": "65f06c8e",
   "metadata": {},
   "outputs": [
    {
     "data": {
      "text/plain": [
       "\"It is not the case that both it's alive and it's mortal!\""
      ]
     },
     "execution_count": 13,
     "metadata": {},
     "output_type": "execute_result"
    }
   ],
   "source": [
    "my_own_string_representation(¬φ)"
   ]
  },
  {
   "cell_type": "code",
   "execution_count": 14,
   "id": "b54406ea",
   "metadata": {},
   "outputs": [
    {
     "data": {
      "text/plain": [
       "TruthDict with values:\n",
       "┌──────────────┬────────────┐\n",
       "│\u001b[1m it's mortal! \u001b[0m│\u001b[1m it's alive \u001b[0m│\n",
       "│\u001b[90m       String \u001b[0m│\u001b[90m     String \u001b[0m│\n",
       "├──────────────┼────────────┤\n",
       "│            ⊥ │          ⊤ │\n",
       "└──────────────┴────────────┘\n"
      ]
     },
     "execution_count": 14,
     "metadata": {},
     "output_type": "execute_result"
    }
   ],
   "source": [
    "Guido = TruthDict([p => true, q => false])"
   ]
  },
  {
   "cell_type": "code",
   "execution_count": 15,
   "id": "1a700c75",
   "metadata": {},
   "outputs": [
    {
     "data": {
      "text/plain": [
       "TruthDict with values:\n",
       "┌──────────────┬────────────┐\n",
       "│\u001b[1m it's mortal! \u001b[0m│\u001b[1m it's alive \u001b[0m│\n",
       "│\u001b[90m       String \u001b[0m│\u001b[90m     String \u001b[0m│\n",
       "├──────────────┼────────────┤\n",
       "│            ⊤ │          ⊤ │\n",
       "└──────────────┴────────────┘\n"
      ]
     },
     "execution_count": 15,
     "metadata": {},
     "output_type": "execute_result"
    }
   ],
   "source": [
    "Giovanni = TruthDict([p => true, q => true])"
   ]
  },
  {
   "cell_type": "code",
   "execution_count": 16,
   "id": "ca7fd25e",
   "metadata": {},
   "outputs": [
    {
     "data": {
      "text/plain": [
       "true"
      ]
     },
     "execution_count": 16,
     "metadata": {},
     "output_type": "execute_result"
    }
   ],
   "source": [
    "check(p, Guido) # Guido is alive"
   ]
  },
  {
   "cell_type": "code",
   "execution_count": 17,
   "id": "6563d348",
   "metadata": {},
   "outputs": [
    {
     "data": {
      "text/plain": [
       "false"
      ]
     },
     "execution_count": 17,
     "metadata": {},
     "output_type": "execute_result"
    }
   ],
   "source": [
    "check(φ, Guido) # But not both alive and mortal"
   ]
  },
  {
   "cell_type": "code",
   "execution_count": 18,
   "id": "5183edd2",
   "metadata": {},
   "outputs": [
    {
     "data": {
      "text/plain": [
       "true"
      ]
     },
     "execution_count": 18,
     "metadata": {},
     "output_type": "execute_result"
    }
   ],
   "source": [
    "check(φ, Giovanni) # Giovanni is both alive and mortal!"
   ]
  },
  {
   "cell_type": "code",
   "execution_count": 19,
   "id": "63dd28ac",
   "metadata": {},
   "outputs": [
    {
     "data": {
      "text/plain": [
       "(⊤, ⊤)"
      ]
     },
     "execution_count": 19,
     "metadata": {},
     "output_type": "execute_result"
    }
   ],
   "source": [
    "# These objects can actually be used as dictionaries from Formula to Truth values\n",
    "# For example, we both assign ⊤ (top) to the atom \"alive\"\n",
    "Guido[p], Giovanni[p]"
   ]
  },
  {
   "cell_type": "code",
   "execution_count": 20,
   "id": "7ae99b5d",
   "metadata": {},
   "outputs": [
    {
     "data": {
      "text/plain": [
       "true"
      ]
     },
     "execution_count": 20,
     "metadata": {},
     "output_type": "execute_result"
    }
   ],
   "source": [
    "# What is ⊤?\n",
    "⊤ isa Truth      &&     ⊤ isa Formula"
   ]
  },
  {
   "cell_type": "code",
   "execution_count": 21,
   "id": "09294823",
   "metadata": {},
   "outputs": [
    {
     "data": {
      "text/plain": [
       "(⊤, ⊥, ∧, ∨, →)"
      ]
     },
     "execution_count": 21,
     "metadata": {},
     "output_type": "execute_result"
    }
   ],
   "source": [
    "# Now it's time to say it: these Unicode character are\n",
    "#  not too comfy for a Jupyter Notebook. Let's use their aliases.\n",
    "TOP, BOT, CONJUNCTION, DISJUNCTION, IMPLICATION\n",
    "#  (but try typing \\top<tab> in the Julia REPL)"
   ]
  },
  {
   "cell_type": "code",
   "execution_count": 22,
   "id": "d9c52872",
   "metadata": {},
   "outputs": [
    {
     "data": {
      "text/plain": [
       "⊥"
      ]
     },
     "execution_count": 22,
     "metadata": {},
     "output_type": "execute_result"
    }
   ],
   "source": [
    "# Actually, indexing (with []) can be used to check generic Formula's\n",
    "Guido[φ]"
   ]
  },
  {
   "cell_type": "code",
   "execution_count": 23,
   "id": "ec744724",
   "metadata": {},
   "outputs": [
    {
     "data": {
      "text/plain": [
       "⊥"
      ]
     },
     "execution_count": 23,
     "metadata": {},
     "output_type": "execute_result"
    }
   ],
   "source": [
    "# This is syntactic sugar for the *interpretation* algorithm, which is actually more general than check!\n",
    "interpret(φ, Guido)"
   ]
  },
  {
   "cell_type": "code",
   "execution_count": 24,
   "id": "9a69ccb3",
   "metadata": {},
   "outputs": [
    {
     "data": {
      "text/plain": [
       "⊤"
      ]
     },
     "execution_count": 24,
     "metadata": {},
     "output_type": "execute_result"
    }
   ],
   "source": [
    "# In fact, it also works under incomplete information.\n",
    "# Notice how in this example, with an *unknown atom*, it uses the *known* information to simplify the formula\n",
    "Giovanni[φ ∨ Atom(\"?Unknown property?\")]"
   ]
  },
  {
   "cell_type": "code",
   "execution_count": 25,
   "id": "717be11c",
   "metadata": {},
   "outputs": [
    {
     "data": {
      "text/plain": [
       "true"
      ]
     },
     "execution_count": 25,
     "metadata": {},
     "output_type": "execute_result"
    }
   ],
   "source": [
    "# So ultimately, `check` is just a shortcut for making sure that `interpret` simplifies the formula to ⊤\n",
    "check(φ, Guido) == istop(interpret(φ, Guido))"
   ]
  },
  {
   "cell_type": "code",
   "execution_count": 26,
   "id": "5b9f702d",
   "metadata": {},
   "outputs": [
    {
     "data": {
      "text/plain": [
       "SyntaxBranch{NamedConnective{:→}}: (¬b ∧ a ∧ a) → (b ∨ a ∨ (b → b))"
      ]
     },
     "execution_count": 26,
     "metadata": {},
     "output_type": "execute_result"
    }
   ],
   "source": [
    "# Let's generate random formulas\n",
    "treeheight = 3\n",
    "@atoms a b\n",
    "φ2 = randformula(treeheight, [a,b], SoleLogics.BASE_PROPOSITIONAL_CONNECTIVES)"
   ]
  },
  {
   "cell_type": "code",
   "execution_count": 27,
   "id": "35c62634",
   "metadata": {},
   "outputs": [
    {
     "data": {
      "text/plain": [
       "SyntaxBranch{NamedConnective{:¬}}: ¬(b ∧ a ∧ ¬b)"
      ]
     },
     "execution_count": 27,
     "metadata": {},
     "output_type": "execute_result"
    }
   ],
   "source": [
    "# Let's control reproducibility, though ;)\n",
    "using Random\n",
    "rng = Random.MersenneTwister(1)\n",
    "φ2 = randformula(rng, treeheight, [a,b], SoleLogics.BASE_PROPOSITIONAL_CONNECTIVES)"
   ]
  },
  {
   "cell_type": "code",
   "execution_count": 28,
   "id": "b5f569c7",
   "metadata": {},
   "outputs": [
    {
     "data": {
      "text/plain": [
       "SyntaxBranch{NamedConnective{:∨}}: ¬a ∨ b ∨ ¬b"
      ]
     },
     "execution_count": 28,
     "metadata": {},
     "output_type": "execute_result"
    }
   ],
   "source": [
    "normalize(φ2)"
   ]
  },
  {
   "cell_type": "markdown",
   "id": "d0e53736",
   "metadata": {},
   "source": [
    "#### HOMEWORK EXERCISE 1\n",
    "Check many, randomly-generated formulas on the alphabet ${p, q}$ on both `Guido` and `Giovanni`.\n",
    "Do `Guido` and `Giovanni` have the same probability of satisfying a generic formula? Can you estimate this probability?"
   ]
  },
  {
   "cell_type": "markdown",
   "id": "17021f26",
   "metadata": {},
   "source": [
    "### Scalar logisets"
   ]
  },
  {
   "cell_type": "markdown",
   "id": "3521b00b",
   "metadata": {},
   "source": [
    "Now, let's consider a propositional interpretation on scalar variables, and check formulas on an alphabet $\\mathcal{A} \\subseteq \\{V < v, v \\in \\mathbb{R}\\}$ on it."
   ]
  },
  {
   "cell_type": "code",
   "execution_count": 29,
   "id": "f2a2c3f7",
   "metadata": {},
   "outputs": [
    {
     "data": {
      "text/plain": [
       "\"V2 < 10\""
      ]
     },
     "execution_count": 29,
     "metadata": {},
     "output_type": "execute_result"
    }
   ],
   "source": [
    "import SoleLogics: syntaxstring\n",
    "\n",
    "struct ConditionOnVariable\n",
    "    i_variable::Integer\n",
    "    threshold::Number\n",
    "end\n",
    "\n",
    "function syntaxstring(c::ConditionOnVariable; kwargs...)\n",
    "    \"V$(c.i_variable) < $(c.threshold)\"\n",
    "end\n",
    "\n",
    "syntaxstring(ConditionOnVariable(2, 10))"
   ]
  },
  {
   "cell_type": "code",
   "execution_count": 30,
   "id": "0350840a",
   "metadata": {},
   "outputs": [
    {
     "data": {
      "text/plain": [
       "interpret (generic function with 12 methods)"
      ]
     },
     "execution_count": 30,
     "metadata": {},
     "output_type": "execute_result"
    }
   ],
   "source": [
    "using SoleLogics: AbstractAssignment # Propositional Interpretations\n",
    "\n",
    "struct TabularInterpretation{T<:Real} <: AbstractAssignment\n",
    "    vals::Vector{T}\n",
    "end\n",
    "\n",
    "import SoleLogics: interpret\n",
    "\n",
    "function interpret(a::Atom{ConditionOnVariable}, I::TabularInterpretation)\n",
    "    cond = value(a)\n",
    "    return (I.vals[cond.i_variable] < cond.threshold ? TOP : BOT)\n",
    "end"
   ]
  },
  {
   "cell_type": "code",
   "execution_count": 31,
   "id": "ec6a49ad",
   "metadata": {},
   "outputs": [
    {
     "data": {
      "text/plain": [
       "TabularInterpretation{Float64}([0.23603334566204692, 0.34651701419196046, 0.3127069683360675, 0.00790928339056074])"
      ]
     },
     "execution_count": 31,
     "metadata": {},
     "output_type": "execute_result"
    }
   ],
   "source": [
    "rng = Random.MersenneTwister(1)\n",
    "n_variables = 4\n",
    "\n",
    "I = TabularInterpretation(rand(rng, n_variables))"
   ]
  },
  {
   "cell_type": "code",
   "execution_count": 32,
   "id": "f5d49221",
   "metadata": {},
   "outputs": [
    {
     "data": {
      "text/plain": [
       "44-element Vector{String}:\n",
       " \"V1 < 0.0\"\n",
       " \"V1 < 0.1\"\n",
       " \"V1 < 0.2\"\n",
       " \"V1 < 0.3\"\n",
       " \"V1 < 0.4\"\n",
       " \"V1 < 0.5\"\n",
       " \"V1 < 0.6\"\n",
       " \"V1 < 0.7\"\n",
       " \"V1 < 0.8\"\n",
       " \"V1 < 0.9\"\n",
       " \"V1 < 1.0\"\n",
       " \"V2 < 0.0\"\n",
       " \"V2 < 0.1\"\n",
       " ⋮\n",
       " \"V3 < 1.0\"\n",
       " \"V4 < 0.0\"\n",
       " \"V4 < 0.1\"\n",
       " \"V4 < 0.2\"\n",
       " \"V4 < 0.3\"\n",
       " \"V4 < 0.4\"\n",
       " \"V4 < 0.5\"\n",
       " \"V4 < 0.6\"\n",
       " \"V4 < 0.7\"\n",
       " \"V4 < 0.8\"\n",
       " \"V4 < 0.9\"\n",
       " \"V4 < 1.0\""
      ]
     },
     "execution_count": 32,
     "metadata": {},
     "output_type": "execute_result"
    }
   ],
   "source": [
    "A = Atom.([ConditionOnVariable(v, t) for v in 1:n_variables for t in 0:0.1:1.0])\n",
    "syntaxstring.(A)"
   ]
  },
  {
   "cell_type": "code",
   "execution_count": 33,
   "id": "b33b3c32",
   "metadata": {},
   "outputs": [
    {
     "data": {
      "text/plain": [
       "44-element Vector{BooleanTruth}:\n",
       " ⊥\n",
       " ⊥\n",
       " ⊥\n",
       " ⊤\n",
       " ⊤\n",
       " ⊤\n",
       " ⊤\n",
       " ⊤\n",
       " ⊤\n",
       " ⊤\n",
       " ⊤\n",
       " ⊥\n",
       " ⊥\n",
       " ⋮\n",
       " ⊤\n",
       " ⊥\n",
       " ⊤\n",
       " ⊤\n",
       " ⊤\n",
       " ⊤\n",
       " ⊤\n",
       " ⊤\n",
       " ⊤\n",
       " ⊤\n",
       " ⊤\n",
       " ⊤"
      ]
     },
     "execution_count": 33,
     "metadata": {},
     "output_type": "execute_result"
    }
   ],
   "source": [
    "[interpret(cond, I) for cond in A]"
   ]
  },
  {
   "cell_type": "code",
   "execution_count": 34,
   "id": "28f7a862",
   "metadata": {},
   "outputs": [
    {
     "data": {
      "text/plain": [
       "10-element Vector{Pair{String}}:\n",
       "                 \"(¬V2 < 0.4 ∧ (V1 < 0.5 → V4 < 0.8)) → (V4 < 0.4 ∧ V4 < 0.9 ∧ V2 < 0.9 ∧ V1 < 0.2)\" => ⊤\n",
       "                     \"V4 < 0.1 ∨ V2 < 0.6 ∨ V4 < 0.8 ∨ V2 < 0.5 ∨ ¬V4 < 0.8 ∧ (V2 < 0.4 → V1 < 0.5)\" => ⊤\n",
       "                                                   \"¬(V3 < 0.6 ∧ V4 < 0.9) ∧ ¬(V2 < 0.3 → V1 < 1.0)\" => ⊥\n",
       "                                                \"¬¬V4 < 0.6 ∧ ((¬V1 < 0.0) → (V2 < 0.4 ∧ V2 < 0.3))\" => ⊥\n",
       "   \"((V4 < 0.4 → V4 < 1.0) ∨ V1 < 0.7 ∨ V2 < 0.7) → ((V3 < 0.3 → V4 < 0.3) ∧ (V2 < 0.2 ∨ V3 < 0.5))\" => ⊤\n",
       " \"((V4 < 0.0 → V2 < 0.3) → (V4 < 0.2 ∧ V3 < 0.9)) ∨ ((V1 < 0.8 → V1 < 0.4) → (V2 < 0.7 → V2 < 0.0))\" => ⊤\n",
       "                           \"¬V3 < 0.6 ∧ ¬V3 < 1.0 ∧ ((V3 < 0.5 → V3 < 0.5) → (V3 < 0.8 ∧ V4 < 0.3))\" => ⊥\n",
       "                                                                \"¬(V3 < 0.6 ∧ V1 < 0.1 ∧ ¬V1 < 0.7)\" => ⊤\n",
       "                                                   \"¬(V1 < 0.0 ∨ V3 < 0.5) ∧ ¬(V4 < 0.2 ∨ V1 < 0.8)\" => ⊥\n",
       "                                                                          \"¬(¬V1 < 0.5 ∨ ¬V3 < 0.8)\" => ⊤"
      ]
     },
     "execution_count": 34,
     "metadata": {},
     "output_type": "execute_result"
    }
   ],
   "source": [
    "rng = Random.MersenneTwister(32)\n",
    "\n",
    "[begin\n",
    "f = randformula(rng, 3, A, SoleLogics.BASE_PROPOSITIONAL_CONNECTIVES)\n",
    "syntaxstring(f) => interpret(f, I)\n",
    "end for _ in 1:10]"
   ]
  },
  {
   "cell_type": "markdown",
   "id": "7f0ae20a",
   "metadata": {},
   "source": [
    "#### HOMEWORK EXERCISE 2\n",
    "Check many, randomly-generated formulas on many, randomly-generated tabular interpretations,\n",
    "and store the formulas that satisfy the highest number of instances!"
   ]
  },
  {
   "cell_type": "markdown",
   "id": "41df4adb",
   "metadata": {},
   "source": [
    "## Modal Logic"
   ]
  },
  {
   "cell_type": "code",
   "execution_count": 35,
   "id": "232ed72c",
   "metadata": {},
   "outputs": [
    {
     "data": {
      "text/plain": [
       "SoleLogics.ExplicitCrispUniModalFrame{SoleLogics.World{Int64}, SimpleDiGraph{Int64}} with\n",
       "- worlds = [\"1\", \"2\", \"3\", \"4\", \"5\"]\n",
       "- accessibles = \n",
       "\t1 -> [2, 3]\n",
       "\t2 -> [4]\n",
       "\t3 -> [4, 5]\n",
       "\t4 -> []\n",
       "\t5 -> []\n"
      ]
     },
     "execution_count": 35,
     "metadata": {},
     "output_type": "execute_result"
    }
   ],
   "source": [
    "# Instantiate a frame with 5 worlds and 5 edges\n",
    "using Graphs\n",
    "\n",
    "worlds = SoleLogics.World.(1:5)\n",
    "edges = Edge.([(1,2), (1,3), (2,4), (3,4), (3,5)])\n",
    "fr = SoleLogics.ExplicitCrispUniModalFrame(worlds, Graphs.SimpleDiGraph(edges))"
   ]
  },
  {
   "cell_type": "code",
   "execution_count": 36,
   "id": "a50761c4",
   "metadata": {},
   "outputs": [
    {
     "data": {
      "text/plain": [
       "2-element Vector{SoleLogics.World{Int64}}:\n",
       " SoleLogics.World{Int64}(2)\n",
       " SoleLogics.World{Int64}(3)"
      ]
     },
     "execution_count": 36,
     "metadata": {},
     "output_type": "execute_result"
    }
   ],
   "source": [
    "# Pick the first world\n",
    "w1 = worlds[1]\n",
    "\n",
    "# Enumerate the world that are accessible from the first world\n",
    "accessibles(fr, w1)"
   ]
  },
  {
   "cell_type": "code",
   "execution_count": 37,
   "id": "72d9105d",
   "metadata": {},
   "outputs": [
    {
     "data": {
      "text/plain": [
       "2-element Vector{SoleLogics.World{Int64}}:\n",
       " SoleLogics.World{Int64}(2)\n",
       " SoleLogics.World{Int64}(3)"
      ]
     },
     "execution_count": 37,
     "metadata": {},
     "output_type": "execute_result"
    }
   ],
   "source": [
    "# That's an iterator of worlds... If I want to see them, I'll collect them.\n",
    "collect(accessibles(fr, w1))"
   ]
  },
  {
   "cell_type": "code",
   "execution_count": 38,
   "id": "dda40348",
   "metadata": {},
   "outputs": [
    {
     "data": {
      "text/plain": [
       "KripkeStructure{SoleLogics.ExplicitCrispUniModalFrame{SoleLogics.World{Int64}, SimpleDiGraph{Int64}}, Dict{SoleLogics.World{Int64}, TruthDict{Dict{Atom{String}, BooleanTruth}}}} with\n",
       "- frame = SoleLogics.ExplicitCrispUniModalFrame{SoleLogics.World{Int64}, SimpleDiGraph{Int64}} with\n",
       "- worlds = [\"1\", \"2\", \"3\", \"4\", \"5\"]\n",
       "- accessibles = \n",
       "\t1 -> [2, 3]\n",
       "\t2 -> [4]\n",
       "\t3 -> [4, 5]\n",
       "\t4 -> []\n",
       "\t5 -> []\n",
       "- valuations = \n",
       "\t1 -> TruthDict([it's mortal! => ⊥, it's alive => ⊤])\n",
       "\t2 -> TruthDict([it's mortal! => ⊤, it's alive => ⊤])\n",
       "\t3 -> TruthDict([it's mortal! => ⊥, it's alive => ⊤])\n",
       "\t4 -> TruthDict([it's mortal! => ⊥, it's alive => ⊥])\n",
       "\t5 -> TruthDict([it's mortal! => ⊤, it's alive => ⊥])\n"
      ]
     },
     "execution_count": 38,
     "metadata": {},
     "output_type": "execute_result"
    }
   ],
   "source": [
    "# Assign each world a propositional interpretation\n",
    "valuation = Dict([\n",
    "        worlds[1] => TruthDict([p => TOP, q => BOT]),\n",
    "        worlds[2] => TruthDict([p => TOP, q => TOP]),\n",
    "        worlds[3] => TruthDict([p => TOP, q => BOT]),\n",
    "        worlds[4] => TruthDict([p => BOT, q => BOT]),\n",
    "        worlds[5] => TruthDict([p => BOT, q => TOP]),\n",
    "     ])\n",
    "\n",
    "# Instantiate a Kripke structure\n",
    "K = KripkeStructure(fr, valuation)"
   ]
  },
  {
   "cell_type": "code",
   "execution_count": 39,
   "id": "3cad233c",
   "metadata": {},
   "outputs": [
    {
     "name": "stdout",
     "output_type": "stream",
     "text": [
      "□(it's alive → it's mortal!) ∨ ¬(it's alive → it's alive)\n"
     ]
    },
    {
     "data": {
      "text/plain": [
       "5-element Vector{Pair{SoleLogics.World{Int64}, Bool}}:\n",
       " SoleLogics.World{Int64}(1) => 0\n",
       " SoleLogics.World{Int64}(2) => 1\n",
       " SoleLogics.World{Int64}(3) => 1\n",
       " SoleLogics.World{Int64}(4) => 1\n",
       " SoleLogics.World{Int64}(5) => 1"
      ]
     },
     "execution_count": 39,
     "metadata": {},
     "output_type": "execute_result"
    }
   ],
   "source": [
    "# Generate a random modal formula\n",
    "φmodal = randformula(Random.MersenneTwister(14), 3, [p,q], SoleLogics.BASE_MODAL_CONNECTIVES)\n",
    "\n",
    "println(syntaxstring(φmodal))\n",
    "\n",
    "# Check the formula on each world of the Kripke structure\n",
    "[w => check(φmodal, K, w) for w in worlds]"
   ]
  },
  {
   "cell_type": "markdown",
   "id": "72d1413a",
   "metadata": {},
   "source": [
    "#### EXERCISE 3\n",
    "Define a structure for representing a *modal* interpretation on scalar variables."
   ]
  },
  {
   "cell_type": "code",
   "execution_count": 40,
   "id": "14c0d1e6",
   "metadata": {},
   "outputs": [
    {
     "ename": "LoadError",
     "evalue": "UndefVarError: `ModalInterpretation` not defined",
     "output_type": "error",
     "traceback": [
      "UndefVarError: `ModalInterpretation` not defined",
      "",
      "Stacktrace:",
      " [1] top-level scope",
      "   @ In[40]:12"
     ]
    }
   ],
   "source": [
    "using SoleLogics: AbstractFrame, World, AbstractKripkeStructure\n",
    "\n",
    "# TODO:\n",
    "# struct ModalInterpretation{FR<:AbstractFrame,T<:Real} <: AbstractKripkeStructure\n",
    "#     frame::FR\n",
    "#     vals::???\n",
    "# end\n",
    "\n",
    "import SoleLogics: interpret, frame\n",
    "\n",
    "# Retrieve the interpretation's frame\n",
    "frame(i::ModalInterpretation) = i.frame\n",
    "\n",
    "# TODO:\n",
    "# function interpret(a::Atom{ConditionOnVariable}, I::ModalInterpretation, w::World)\n",
    "#     cond = value(a)\n",
    "#     v = ???\n",
    "#     return (v < cond.threshold ? TOP : BOT)\n",
    "# end"
   ]
  },
  {
   "cell_type": "code",
   "execution_count": 41,
   "id": "50dd1e5a",
   "metadata": {
    "scrolled": true
   },
   "outputs": [
    {
     "ename": "LoadError",
     "evalue": "UndefVarError: `ModalInterpretation` not defined",
     "output_type": "error",
     "traceback": [
      "UndefVarError: `ModalInterpretation` not defined",
      "",
      "Stacktrace:",
      " [1] top-level scope",
      "   @ In[41]:12"
     ]
    }
   ],
   "source": [
    "rng = Random.MersenneTwister(1)\n",
    "n_variables = 4\n",
    "n_worlds = 5\n",
    "n_edges = 7\n",
    "n_formulas = 10\n",
    "\n",
    "worlds = SoleLogics.World.(1:n_worlds)\n",
    "g = SimpleDiGraph(n_worlds, n_edges; rng)\n",
    "fr = SoleLogics.ExplicitCrispUniModalFrame(worlds, g)\n",
    "variable_values = [rand(n_variables) for w in worlds]\n",
    "\n",
    "Imodal = ModalInterpretation(fr, variable_values)\n",
    "\n",
    "for i_formula in 1:n_formulas\n",
    "    φmodal = randformula(Random.MersenneTwister(i_formula), 2, A, SoleLogics.BASE_MODAL_CONNECTIVES)\n",
    "\n",
    "    println(syntaxstring(φmodal) => [\"w$(SoleLogics.name(w))\" => check(φmodal, Imodal, w) for w in worlds])\n",
    "    println()\n",
    "end"
   ]
  },
  {
   "cell_type": "markdown",
   "id": "a04b90e7",
   "metadata": {},
   "source": [
    "#### EXERCISE 4\n",
    "Check many, randomly-generated *modal* formulas on many, randomly-generated *modal* interpretations,\n",
    "and store the formulas that satisfy the highest number of instances!"
   ]
  },
  {
   "cell_type": "code",
   "execution_count": 42,
   "id": "c8cff629",
   "metadata": {},
   "outputs": [],
   "source": [
    "# TODO"
   ]
  }
 ],
 "metadata": {
  "kernelspec": {
   "display_name": "Julia 1.9.0",
   "language": "julia",
   "name": "julia-1.9"
  },
  "language_info": {
   "file_extension": ".jl",
   "mimetype": "application/julia",
   "name": "julia",
   "version": "1.9.4"
  }
 },
 "nbformat": 4,
 "nbformat_minor": 5
}
